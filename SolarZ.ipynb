{
 "cells": [
  {
   "cell_type": "code",
   "execution_count": 43,
   "metadata": {},
   "outputs": [],
   "source": [
    "from selenium import webdriver\n",
    "from selenium.webdriver.common.by import By\n",
    "from selenium.webdriver.common.keys import Keys\n",
    "from selenium.webdriver.edge.options import Options\n",
    "from bs4 import BeautifulSoup\n",
    "import pandas as pd\n",
    "from time import sleep"
   ]
  },
  {
   "cell_type": "code",
   "execution_count": 44,
   "metadata": {},
   "outputs": [],
   "source": [
    "#options = Options()\n",
    "#options.add_argument('--headless')\n",
    "navegador = webdriver.Edge()\n",
    "navegador.get('https://app.solarz.com.br/login?logout')\n",
    "# Para abrir o webdriver, deve selecionar o interpreter >> UFPI (Python 3.9.2)\n",
    "\n",
    "# Inserção de dados na tela de login\n",
    "login = navegador.find_element(By.NAME, 'username')\n",
    "login.send_keys('contato@energiacruze.com')\n",
    "password = navegador.find_element(By.NAME, 'password')\n",
    "password.send_keys('Cruze2113!') \n",
    "botao_entrar = navegador.find_element(By.CLASS_NAME, 'btnEntrar')\n",
    "botao_entrar.send_keys(Keys.ENTER) # Pressionar o Enter no botão de \"ENTRAR\"\n"
   ]
  },
  {
   "cell_type": "code",
   "execution_count": 45,
   "metadata": {},
   "outputs": [
    {
     "data": {
      "text/plain": [
       "\"\\nfor cada_cliente in range(0, 3):\\n    navegador.get(url.format(pg = id[cada_cliente]))\\n    sleep(9)\\n\\n\\nnomes_usinas = []\\npower_week = []\\n\\n#print(id_e_nome)\\nnome = [tags.text.strip() for tags in id_e_nome] # OK !!\\nprint(nome)\\n#print(len(usina_content))\\n#usina_name = usina_content.findAll('a')\\n\""
      ]
     },
     "execution_count": 45,
     "metadata": {},
     "output_type": "execute_result"
    }
   ],
   "source": [
    "sleep(1)\n",
    "navegador.get('https://app.solarz.com.br/integrador/usinas') # Requisição para visualização das usinas\n",
    "sleep(10)\n",
    "list_usinas = BeautifulSoup(navegador.page_source, 'html.parser')\n",
    "\n",
    "# Conteúdo HTML com índices de nome e ID;\n",
    "usina_content = list_usinas.findAll('div',attrs={'class':'usina-info'})\n",
    "\n",
    "navigation_pag = list_usinas.findAll('li', attrs={'class': 'nav-item'})\n",
    "#print(len(navigation_pag))\n",
    "\n",
    "# Loop para navegar nas páginas das usinas\n",
    "for pagina in range(2, len(navigation_pag)):\n",
    "    bot_on_click = navegador.find_element(By.LINK_TEXT, '{pg}'.format(pg = pagina)).click()\n",
    "    sleep(3)\n",
    "\n",
    "              \n",
    "\"\"\"\n",
    "# Armazenamento de ID's das usinas \n",
    "id_usina = [link.find('a').get('href').split('=')[1] for link in usina_content] # <= Id's\n",
    "\n",
    "# Armazenamento de nomes das usinas\n",
    "nome_usina = [link.find('a').text.strip() for link in usina_content] # <= Nomes \n",
    "\n",
    "# Armazenamento da potência dos últimos 7 dias\n",
    "pot_usina_html = list_usinas.findAll('div', attrs={'style': 'width: 12.8%; margin: auto 0px auto 0px; text-align: center; min-width: 90px'})\n",
    "week_pot = [link.text.strip() for link in pot_usina_html] # <= Potencias\n",
    "#print(week_pot)\n",
    "\"\"\"\n",
    "\"\"\" Como week_pot armazena a potência 'Ontem' e 'Últimos 7 dias', aqui é extraido somente os dados \n",
    "ímpares (que armazena 'Últimos 7 dias') \n",
    "pot_usina = [week_pot[num_potencia] for num_potencia in range(0, len(week_pot)) if num_potencia % 2]\n",
    "print(pot_usina)\n",
    "\"\"\"\n",
    "# Entrando nas usinas dos clientes\n",
    "# url = 'https://app.solarz.com.br/integrador/usinas/geracao?id={pg}'\n",
    "\n",
    "\"\"\"\n",
    "for cada_cliente in range(0, 3):\n",
    "    navegador.get(url.format(pg = id[cada_cliente]))\n",
    "    sleep(9)\n",
    "\n",
    "\n",
    "nomes_usinas = []\n",
    "power_week = []\n",
    "\n",
    "#print(id_e_nome)\n",
    "nome = [tags.text.strip() for tags in id_e_nome] # OK !!\n",
    "print(nome)\n",
    "#print(len(usina_content))\n",
    "#usina_name = usina_content.findAll('a')\n",
    "\"\"\"\n"
   ]
  }
 ],
 "metadata": {
  "interpreter": {
   "hash": "d44ab4243b5e874b8dcd52bbafd8bd25c5eb98e2d3728f1eb90f54c032b3996a"
  },
  "kernelspec": {
   "display_name": "Python 3.9.7 ('base')",
   "language": "python",
   "name": "python3"
  },
  "language_info": {
   "codemirror_mode": {
    "name": "ipython",
    "version": 3
   },
   "file_extension": ".py",
   "mimetype": "text/x-python",
   "name": "python",
   "nbconvert_exporter": "python",
   "pygments_lexer": "ipython3",
   "version": "3.9.2"
  },
  "orig_nbformat": 4
 },
 "nbformat": 4,
 "nbformat_minor": 2
}
