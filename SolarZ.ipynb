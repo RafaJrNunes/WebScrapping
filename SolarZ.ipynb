{
 "cells": [
  {
   "cell_type": "code",
   "execution_count": 3,
   "metadata": {},
   "outputs": [],
   "source": [
    "from selenium import webdriver\n",
    "from selenium.webdriver.common.by import By\n",
    "from selenium.webdriver.common.keys import Keys\n",
    "from selenium.webdriver.edge.options import Options\n",
    "from bs4 import BeautifulSoup\n",
    "import pandas as pd\n",
    "from time import sleep"
   ]
  },
  {
   "cell_type": "code",
   "execution_count": 4,
   "metadata": {},
   "outputs": [
    {
     "ename": "WebDriverException",
     "evalue": "Message: 'MicrosoftWebDriver.exe' executable needs to be in PATH. Please download from http://go.microsoft.com/fwlink/?LinkId=619687\n",
     "output_type": "error",
     "traceback": [
      "\u001b[1;31m---------------------------------------------------------------------------\u001b[0m",
      "\u001b[1;31mFileNotFoundError\u001b[0m                         Traceback (most recent call last)",
      "\u001b[1;32m~\\anaconda3\\lib\\site-packages\\selenium\\webdriver\\common\\service.py\u001b[0m in \u001b[0;36mstart\u001b[1;34m(self)\u001b[0m\n\u001b[0;32m     71\u001b[0m             \u001b[0mcmd\u001b[0m\u001b[1;33m.\u001b[0m\u001b[0mextend\u001b[0m\u001b[1;33m(\u001b[0m\u001b[0mself\u001b[0m\u001b[1;33m.\u001b[0m\u001b[0mcommand_line_args\u001b[0m\u001b[1;33m(\u001b[0m\u001b[1;33m)\u001b[0m\u001b[1;33m)\u001b[0m\u001b[1;33m\u001b[0m\u001b[1;33m\u001b[0m\u001b[0m\n\u001b[1;32m---> 72\u001b[1;33m             self.process = subprocess.Popen(cmd, env=self.env,\n\u001b[0m\u001b[0;32m     73\u001b[0m                                             \u001b[0mclose_fds\u001b[0m\u001b[1;33m=\u001b[0m\u001b[0mplatform\u001b[0m\u001b[1;33m.\u001b[0m\u001b[0msystem\u001b[0m\u001b[1;33m(\u001b[0m\u001b[1;33m)\u001b[0m \u001b[1;33m!=\u001b[0m \u001b[1;34m'Windows'\u001b[0m\u001b[1;33m,\u001b[0m\u001b[1;33m\u001b[0m\u001b[1;33m\u001b[0m\u001b[0m\n",
      "\u001b[1;32m~\\anaconda3\\lib\\subprocess.py\u001b[0m in \u001b[0;36m__init__\u001b[1;34m(self, args, bufsize, executable, stdin, stdout, stderr, preexec_fn, close_fds, shell, cwd, env, universal_newlines, startupinfo, creationflags, restore_signals, start_new_session, pass_fds, user, group, extra_groups, encoding, errors, text, umask)\u001b[0m\n\u001b[0;32m    950\u001b[0m \u001b[1;33m\u001b[0m\u001b[0m\n\u001b[1;32m--> 951\u001b[1;33m             self._execute_child(args, executable, preexec_fn, close_fds,\n\u001b[0m\u001b[0;32m    952\u001b[0m                                 \u001b[0mpass_fds\u001b[0m\u001b[1;33m,\u001b[0m \u001b[0mcwd\u001b[0m\u001b[1;33m,\u001b[0m \u001b[0menv\u001b[0m\u001b[1;33m,\u001b[0m\u001b[1;33m\u001b[0m\u001b[1;33m\u001b[0m\u001b[0m\n",
      "\u001b[1;32m~\\anaconda3\\lib\\subprocess.py\u001b[0m in \u001b[0;36m_execute_child\u001b[1;34m(self, args, executable, preexec_fn, close_fds, pass_fds, cwd, env, startupinfo, creationflags, shell, p2cread, p2cwrite, c2pread, c2pwrite, errread, errwrite, unused_restore_signals, unused_gid, unused_gids, unused_uid, unused_umask, unused_start_new_session)\u001b[0m\n\u001b[0;32m   1419\u001b[0m             \u001b[1;32mtry\u001b[0m\u001b[1;33m:\u001b[0m\u001b[1;33m\u001b[0m\u001b[1;33m\u001b[0m\u001b[0m\n\u001b[1;32m-> 1420\u001b[1;33m                 hp, ht, pid, tid = _winapi.CreateProcess(executable, args,\n\u001b[0m\u001b[0;32m   1421\u001b[0m                                          \u001b[1;31m# no special security\u001b[0m\u001b[1;33m\u001b[0m\u001b[1;33m\u001b[0m\u001b[0m\n",
      "\u001b[1;31mFileNotFoundError\u001b[0m: [WinError 2] O sistema não pode encontrar o arquivo especificado",
      "\nDuring handling of the above exception, another exception occurred:\n",
      "\u001b[1;31mWebDriverException\u001b[0m                        Traceback (most recent call last)",
      "\u001b[1;32m~\\AppData\\Local\\Temp/ipykernel_70252/1438302183.py\u001b[0m in \u001b[0;36m<module>\u001b[1;34m\u001b[0m\n\u001b[0;32m      1\u001b[0m \u001b[1;31m#options = Options()\u001b[0m\u001b[1;33m\u001b[0m\u001b[1;33m\u001b[0m\u001b[0m\n\u001b[0;32m      2\u001b[0m \u001b[1;31m#options.add_argument('--headless')\u001b[0m\u001b[1;33m\u001b[0m\u001b[1;33m\u001b[0m\u001b[0m\n\u001b[1;32m----> 3\u001b[1;33m \u001b[0mnavegador\u001b[0m \u001b[1;33m=\u001b[0m \u001b[0mwebdriver\u001b[0m\u001b[1;33m.\u001b[0m\u001b[0mEdge\u001b[0m\u001b[1;33m(\u001b[0m\u001b[1;33m)\u001b[0m\u001b[1;33m\u001b[0m\u001b[1;33m\u001b[0m\u001b[0m\n\u001b[0m\u001b[0;32m      4\u001b[0m \u001b[0mnavegador\u001b[0m\u001b[1;33m.\u001b[0m\u001b[0mget\u001b[0m\u001b[1;33m(\u001b[0m\u001b[1;34m'https://app.solarz.com.br/login?logout'\u001b[0m\u001b[1;33m)\u001b[0m\u001b[1;33m\u001b[0m\u001b[1;33m\u001b[0m\u001b[0m\n\u001b[0;32m      5\u001b[0m \u001b[1;31m# Para abrir o webdriver, deve selecionar o interpreter >> UFPI (Python 3.9.2)\u001b[0m\u001b[1;33m\u001b[0m\u001b[1;33m\u001b[0m\u001b[0m\n",
      "\u001b[1;32m~\\anaconda3\\lib\\site-packages\\selenium\\webdriver\\edge\\webdriver.py\u001b[0m in \u001b[0;36m__init__\u001b[1;34m(self, executable_path, capabilities, port, verbose, service_log_path, log_path, keep_alive)\u001b[0m\n\u001b[0;32m     54\u001b[0m \u001b[1;33m\u001b[0m\u001b[0m\n\u001b[0;32m     55\u001b[0m         \u001b[0mself\u001b[0m\u001b[1;33m.\u001b[0m\u001b[0medge_service\u001b[0m \u001b[1;33m=\u001b[0m \u001b[0mService\u001b[0m\u001b[1;33m(\u001b[0m\u001b[0mexecutable_path\u001b[0m\u001b[1;33m,\u001b[0m \u001b[0mport\u001b[0m\u001b[1;33m=\u001b[0m\u001b[0mself\u001b[0m\u001b[1;33m.\u001b[0m\u001b[0mport\u001b[0m\u001b[1;33m,\u001b[0m \u001b[0mverbose\u001b[0m\u001b[1;33m=\u001b[0m\u001b[0mverbose\u001b[0m\u001b[1;33m,\u001b[0m \u001b[0mlog_path\u001b[0m\u001b[1;33m=\u001b[0m\u001b[0mservice_log_path\u001b[0m\u001b[1;33m)\u001b[0m\u001b[1;33m\u001b[0m\u001b[1;33m\u001b[0m\u001b[0m\n\u001b[1;32m---> 56\u001b[1;33m         \u001b[0mself\u001b[0m\u001b[1;33m.\u001b[0m\u001b[0medge_service\u001b[0m\u001b[1;33m.\u001b[0m\u001b[0mstart\u001b[0m\u001b[1;33m(\u001b[0m\u001b[1;33m)\u001b[0m\u001b[1;33m\u001b[0m\u001b[1;33m\u001b[0m\u001b[0m\n\u001b[0m\u001b[0;32m     57\u001b[0m \u001b[1;33m\u001b[0m\u001b[0m\n\u001b[0;32m     58\u001b[0m         \u001b[1;32mif\u001b[0m \u001b[0mcapabilities\u001b[0m \u001b[1;32mis\u001b[0m \u001b[1;32mNone\u001b[0m\u001b[1;33m:\u001b[0m\u001b[1;33m\u001b[0m\u001b[1;33m\u001b[0m\u001b[0m\n",
      "\u001b[1;32m~\\anaconda3\\lib\\site-packages\\selenium\\webdriver\\common\\service.py\u001b[0m in \u001b[0;36mstart\u001b[1;34m(self)\u001b[0m\n\u001b[0;32m     79\u001b[0m         \u001b[1;32mexcept\u001b[0m \u001b[0mOSError\u001b[0m \u001b[1;32mas\u001b[0m \u001b[0merr\u001b[0m\u001b[1;33m:\u001b[0m\u001b[1;33m\u001b[0m\u001b[1;33m\u001b[0m\u001b[0m\n\u001b[0;32m     80\u001b[0m             \u001b[1;32mif\u001b[0m \u001b[0merr\u001b[0m\u001b[1;33m.\u001b[0m\u001b[0merrno\u001b[0m \u001b[1;33m==\u001b[0m \u001b[0merrno\u001b[0m\u001b[1;33m.\u001b[0m\u001b[0mENOENT\u001b[0m\u001b[1;33m:\u001b[0m\u001b[1;33m\u001b[0m\u001b[1;33m\u001b[0m\u001b[0m\n\u001b[1;32m---> 81\u001b[1;33m                 raise WebDriverException(\n\u001b[0m\u001b[0;32m     82\u001b[0m                     \"'%s' executable needs to be in PATH. %s\" % (\n\u001b[0;32m     83\u001b[0m                         os.path.basename(self.path), self.start_error_message)\n",
      "\u001b[1;31mWebDriverException\u001b[0m: Message: 'MicrosoftWebDriver.exe' executable needs to be in PATH. Please download from http://go.microsoft.com/fwlink/?LinkId=619687\n"
     ]
    }
   ],
   "source": [
    "#options = Options()\n",
    "#options.add_argument('--headless')\n",
    "navegador = webdriver.Edge()\n",
    "navegador.get('https://app.solarz.com.br/login?logout')\n",
    "# Para abrir o webdriver, deve selecionar o interpreter >> UFPI (Python 3.9.2)\n",
    "\n",
    "# Inserção de dados na tela de login\n",
    "login = navegador.find_element(By.NAME, 'username')\n",
    "login.send_keys('contato@energiacruze.com')\n",
    "password = navegador.find_element(By.NAME, 'password')\n",
    "password.send_keys('Cruze2113!') \n",
    "botao_entrar = navegador.find_element(By.CLASS_NAME, 'btnEntrar')\n",
    "botao_entrar.send_keys(Keys.ENTER) # Pressionar o Enter no botão de \"ENTRAR\"\n"
   ]
  },
  {
   "cell_type": "code",
   "execution_count": null,
   "metadata": {},
   "outputs": [],
   "source": [
    "sleep(1)\n",
    "navegador.get('https://app.solarz.com.br/integrador/usinas') # Requisição para visualização das usinas\n",
    "sleep(10)\n",
    "list_usinas = BeautifulSoup(navegador.page_source, 'html.parser')\n",
    "\n",
    "# Conteúdo HTML com índices de nome e ID;\n",
    "usina_content = list_usinas.findAll('div',attrs={'class':'usina-info'})\n",
    "\n",
    "# Armazenamento de ID's das usinas \n",
    "id_usina = [link.find('a').get('href').split('=')[1] for link in usina_content] # <= Id's\n",
    "\n",
    "# Armazenamento de nomes das usinas\n",
    "nome_usina = [link.find('a').text.strip() for link in usina_content] # <= Nomes \n",
    "navigation_pag = list_usinas.findAll('li', attrs={'class': 'nav-item'})\n",
    "\n",
    "# Armazenamento da potência dos últimos 7 dias\n",
    "pot_usina_html = list_usinas.findAll('div', attrs={'style': 'width: 12.8%; margin: auto 0px auto 0px; text-align: center; min-width: 90px'})\n",
    "week_pot = [link.text.strip() for link in pot_usina_html] # <= Potencias\n",
    "\n",
    "\"\"\"Como week_pot armazena a potência 'Ontem' e 'Últimos 7 dias', aqui é extraido somente os dados \n",
    "ímpares (que armazena 'Últimos 7 dias') \"\"\"\n",
    "pot_usina = [week_pot[num_potencia] for num_potencia in range(0, len(week_pot)) if num_potencia % 2]\n",
    "\n",
    "# Loop para navegar nas páginas das usinas\n",
    "for pagina in range(2, len(navigation_pag)):\n",
    "    usina_content = []\n",
    "    pot_usina_html = []\n",
    "    week_pot = []\n",
    "    bot_on_click = navegador.find_element(By.LINK_TEXT, '{pg}'.format(pg = pagina)).click()\n",
    "    sleep(10)\n",
    "    usina_content = list_usinas.findAll('div', attrs={'class':'usina-info'})\n",
    "    pot_usina_html = list_usinas.findAll('div', attrs={'style': 'width: 12.8%; margin: auto 0px auto 0px; text-align: center; min-width: 90px'})\n",
    "    week_pot = [link.text.strip() for link in pot_usina_html]\n",
    "    for link in usina_content:\n",
    "        id_usina.append(link.find('a').get('href').split('=')[1])\n",
    "        nome_usina.append(link.find('a').text.strip())\n",
    "    for num_potencia in range(0, len(week_pot)):\n",
    "        if num_potencia % 2:\n",
    "            pot_usina.append(week_pot[num_potencia])\n",
    "    \n",
    "\n",
    "print(nome_usina)\n",
    "                                                  \n",
    "    \n",
    "# Entrando na usinas dos clientes\n",
    "# url = 'https://app.solarz.com.br/integrador/usinas/geracao?id={pg}'\n",
    "\n",
    "\"\"\"\n",
    "for cada_cliente in range(0, 3):\n",
    "    navegador.get(url.format(pg = id[cada_cliente]))\n",
    "    sleep(9)\n",
    "\n",
    "\n",
    "nomes_usinas = []\n",
    "power_week = []\n",
    "\n",
    "#print(id_e_nome)\n",
    "nome = [tags.text.strip() for tags in id_e_nome] # OK !!\n",
    "print(nome)\n",
    "#print(len(usina_content))\n",
    "#usina_name = usina_content.findAll('a')\n",
    "\"\"\"\n"
   ]
  }
 ],
 "metadata": {
  "interpreter": {
   "hash": "d44ab4243b5e874b8dcd52bbafd8bd25c5eb98e2d3728f1eb90f54c032b3996a"
  },
  "kernelspec": {
   "display_name": "Python 3.9.7 ('base')",
   "language": "python",
   "name": "python3"
  },
  "language_info": {
   "codemirror_mode": {
    "name": "ipython",
    "version": 3
   },
   "file_extension": ".py",
   "mimetype": "text/x-python",
   "name": "python",
   "nbconvert_exporter": "python",
   "pygments_lexer": "ipython3",
   "version": "3.9.7"
  },
  "orig_nbformat": 4
 },
 "nbformat": 4,
 "nbformat_minor": 2
}
